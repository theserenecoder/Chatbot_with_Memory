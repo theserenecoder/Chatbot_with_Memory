{
 "cells": [
  {
   "cell_type": "code",
   "execution_count": 5,
   "id": "799c4f97",
   "metadata": {},
   "outputs": [],
   "source": [
    "import os\n",
    "from dotenv import load_dotenv\n",
    "load_dotenv()\n",
    "from langchain_core.messages import SystemMessage, HumanMessage, AIMessage\n",
    "from langchain_google_genai import ChatGoogleGenerativeAI\n"
   ]
  },
  {
   "cell_type": "code",
   "execution_count": 3,
   "id": "bd468c49",
   "metadata": {},
   "outputs": [
    {
     "data": {
      "text/plain": [
       "ChatGoogleGenerativeAI(model='models/gemini-2.0-flash', google_api_key=SecretStr('**********'), client=<google.ai.generativelanguage_v1beta.services.generative_service.client.GenerativeServiceClient object at 0x000001FA70A7A250>, default_metadata=(), convert_system_message_to_human=True, model_kwargs={})"
      ]
     },
     "execution_count": 3,
     "metadata": {},
     "output_type": "execute_result"
    }
   ],
   "source": [
    "## defining LLM\n",
    "llm = ChatGoogleGenerativeAI(model = \"gemini-2.0-flash\", convert_system_message_to_human=True)\n",
    "llm"
   ]
  },
  {
   "cell_type": "code",
   "execution_count": 4,
   "id": "7defdb64",
   "metadata": {},
   "outputs": [
    {
     "name": "stderr",
     "output_type": "stream",
     "text": [
      "c:\\Users\\ashut\\OneDrive\\Documents\\study material\\NLP LLM\\Agentic AI\\Chatbot_w_Memory\\venv\\Lib\\site-packages\\langchain_google_genai\\chat_models.py:390: UserWarning: Convert_system_message_to_human will be deprecated!\n",
      "  warnings.warn(\"Convert_system_message_to_human will be deprecated!\")\n"
     ]
    },
    {
     "data": {
      "text/plain": [
       "AIMessage(content=\"Hi Ash, nice to meet you! It's great to connect with a fellow GenAI Engineer. The field is incredibly exciting and rapidly evolving.\\n\\nWhat kind of GenAI projects are you working on? I'm always interested in learning about what others are doing in the space. Are you focusing on specific modalities (text, image, audio, etc.) or applications?\\n\\nLet me know if there's anything I can help you with, whether it's brainstorming ideas, sharing resources, or just discussing the latest trends.\", additional_kwargs={}, response_metadata={'prompt_feedback': {'block_reason': 0, 'safety_ratings': []}, 'finish_reason': 'STOP', 'model_name': 'gemini-2.0-flash', 'safety_ratings': []}, id='run-d01f920e-bec8-4015-9da7-a29469cf41a1-0', usage_metadata={'input_tokens': 13, 'output_tokens': 109, 'total_tokens': 122, 'input_token_details': {'cache_read': 0}})"
      ]
     },
     "execution_count": 4,
     "metadata": {},
     "output_type": "execute_result"
    }
   ],
   "source": [
    "llm.invoke([HumanMessage(content = \"Hi, my name is Ash and I am a GenAI Engineer\")])"
   ]
  },
  {
   "cell_type": "code",
   "execution_count": 6,
   "id": "4a272b38",
   "metadata": {},
   "outputs": [
    {
     "name": "stderr",
     "output_type": "stream",
     "text": [
      "c:\\Users\\ashut\\OneDrive\\Documents\\study material\\NLP LLM\\Agentic AI\\Chatbot_w_Memory\\venv\\Lib\\site-packages\\langchain_google_genai\\chat_models.py:390: UserWarning: Convert_system_message_to_human will be deprecated!\n",
      "  warnings.warn(\"Convert_system_message_to_human will be deprecated!\")\n"
     ]
    },
    {
     "data": {
      "text/plain": [
       "AIMessage(content='Your name is Ash, and you are a GenAI Engineer.', additional_kwargs={}, response_metadata={'prompt_feedback': {'block_reason': 0, 'safety_ratings': []}, 'finish_reason': 'STOP', 'model_name': 'gemini-2.0-flash', 'safety_ratings': []}, id='run-de7d729f-0bfb-4662-9fab-36f176e9e202-0', usage_metadata={'input_tokens': 132, 'output_tokens': 14, 'total_tokens': 146, 'input_token_details': {'cache_read': 0}})"
      ]
     },
     "execution_count": 6,
     "metadata": {},
     "output_type": "execute_result"
    }
   ],
   "source": [
    "llm.invoke(\n",
    "   [\n",
    "       HumanMessage(content=\"Hi, my name is Ash and I am a GenAI Engineer\"),\n",
    "       AIMessage(content=\"Hi Ash, nice to meet you! It's great to connect with a fellow GenAI Engineer. The field is incredibly exciting and rapidly evolving.\\n\\nWhat kind of GenAI projects are you working on? I'm always interested in learning about what others are doing in the space. Are you focusing on specific modalities (text, image, audio, etc.) or applications?\\n\\nLet me know if there's anything I can help you with, whether it's brainstorming ideas, sharing resources, or just discussing the latest trends.\"),\n",
    "       HumanMessage(content=\"Hey what is my name and what do I do?\")\n",
    "   ] \n",
    ")"
   ]
  },
  {
   "cell_type": "markdown",
   "id": "e9e72a3f",
   "metadata": {},
   "source": [
    "### Message History\n",
    "We can use a Message History class to wrap our model and make it stateful. This will keep the track of inputs and outputs of the model, and store them in some datasore. Future interactions will then load those messages and pass them into the chain as part of the input. Let's see how to use this!"
   ]
  },
  {
   "cell_type": "code",
   "execution_count": 11,
   "id": "17a185b1",
   "metadata": {},
   "outputs": [],
   "source": [
    "from langchain_community.chat_message_histories import ChatMessageHistory\n",
    "from langchain_core.chat_history import BaseChatMessageHistory\n",
    "from langchain_core.runnables.history import RunnableWithMessageHistory\n",
    "\n",
    "store = {}\n",
    "\n",
    "def get_session_history(session_id:str) -> BaseChatMessageHistory:\n",
    "    \"\"\" Get the chat message history for a given session ID.\n",
    "    If the session ID does not exist, create a new one.\n",
    "    \"\"\"\n",
    "    if session_id not in store:\n",
    "        store[session_id] = ChatMessageHistory()\n",
    "    return store[session_id]\n",
    "\n",
    "## Create a RunnableWithMessageHistory instance\n",
    "## This will allow you to use the LLM with message history.\n",
    "## The get_session_history function will be used to retrieve the message history for a given session ID.\n",
    "with_message_history = RunnableWithMessageHistory(llm, get_session_history)\n"
   ]
  },
  {
   "cell_type": "code",
   "execution_count": 12,
   "id": "61a4e1d3",
   "metadata": {},
   "outputs": [],
   "source": [
    "config={\"configurable\":{\"session_id\":\"chat1\"}}"
   ]
  },
  {
   "cell_type": "code",
   "execution_count": null,
   "id": "483a7a5b",
   "metadata": {},
   "outputs": [
    {
     "name": "stderr",
     "output_type": "stream",
     "text": [
      "c:\\Users\\ashut\\OneDrive\\Documents\\study material\\NLP LLM\\Agentic AI\\Chatbot_w_Memory\\venv\\Lib\\site-packages\\langchain_google_genai\\chat_models.py:390: UserWarning: Convert_system_message_to_human will be deprecated!\n",
      "  warnings.warn(\"Convert_system_message_to_human will be deprecated!\")\n"
     ]
    }
   ],
   "source": [
    "## Invoke the LLM with message history\n",
    "## The session ID is passed in the config dictionary.\n",
    "response = with_message_history.invoke(\n",
    "    [HumanMessage(content=\"Hi, my name is Ash and I am a GenAI Engineer\")],\n",
    "    config=config\n",
    ")"
   ]
  },
  {
   "cell_type": "code",
   "execution_count": 14,
   "id": "bd14ce9c",
   "metadata": {},
   "outputs": [
    {
     "data": {
      "text/plain": [
       "\"Hi Ash! It's great to meet you. As a GenAI Engineer, you're working in a very exciting and rapidly evolving field. What are some of the things you enjoy most about your work? What kind of projects are you typically involved in? I'm curious to learn more about your experience!\""
      ]
     },
     "execution_count": 14,
     "metadata": {},
     "output_type": "execute_result"
    }
   ],
   "source": [
    "response.content"
   ]
  },
  {
   "cell_type": "code",
   "execution_count": null,
   "id": "561348c9",
   "metadata": {},
   "outputs": [
    {
     "name": "stderr",
     "output_type": "stream",
     "text": [
      "c:\\Users\\ashut\\OneDrive\\Documents\\study material\\NLP LLM\\Agentic AI\\Chatbot_w_Memory\\venv\\Lib\\site-packages\\langchain_google_genai\\chat_models.py:390: UserWarning: Convert_system_message_to_human will be deprecated!\n",
      "  warnings.warn(\"Convert_system_message_to_human will be deprecated!\")\n"
     ]
    },
    {
     "data": {
      "text/plain": [
       "AIMessage(content='Your name is Ash.', additional_kwargs={}, response_metadata={'prompt_feedback': {'block_reason': 0, 'safety_ratings': []}, 'finish_reason': 'STOP', 'model_name': 'gemini-2.0-flash', 'safety_ratings': []}, id='run-59fd1d6f-4f9a-4f1f-b8df-eb0ecba46e71-0', usage_metadata={'input_tokens': 81, 'output_tokens': 6, 'total_tokens': 87, 'input_token_details': {'cache_read': 0}})"
      ]
     },
     "execution_count": 15,
     "metadata": {},
     "output_type": "execute_result"
    }
   ],
   "source": [
    "## We can see that the message history is being used to keep track of the conversation.\n",
    "with_message_history.invoke(\n",
    "    [HumanMessage(content=\"What is my name\")],\n",
    "    config=config\n",
    ")"
   ]
  },
  {
   "cell_type": "code",
   "execution_count": null,
   "id": "eae807ea",
   "metadata": {},
   "outputs": [
    {
     "name": "stderr",
     "output_type": "stream",
     "text": [
      "c:\\Users\\ashut\\OneDrive\\Documents\\study material\\NLP LLM\\Agentic AI\\Chatbot_w_Memory\\venv\\Lib\\site-packages\\langchain_google_genai\\chat_models.py:390: UserWarning: Convert_system_message_to_human will be deprecated!\n",
      "  warnings.warn(\"Convert_system_message_to_human will be deprecated!\")\n"
     ]
    },
    {
     "data": {
      "text/plain": [
       "\"As a large language model, I don't have access to personal information. Therefore, I do not know your name. You have not provided it to me.\""
      ]
     },
     "execution_count": 16,
     "metadata": {},
     "output_type": "execute_result"
    }
   ],
   "source": [
    "## now we will change the session id to \"chat2\" and see if the message history is being used.\n",
    "config2 = {\"configurable\":{\"session_id\":\"chat2\"}}\n",
    "\n",
    "response = with_message_history.invoke(\n",
    "    [HumanMessage(content=\"What is my name\")],\n",
    "    config = config2\n",
    ")\n",
    "\n",
    "## We can see that the message history is not being used for the new session ID \"chat2\".\n",
    "response.content\n"
   ]
  },
  {
   "cell_type": "code",
   "execution_count": null,
   "id": "30612460",
   "metadata": {},
   "outputs": [],
   "source": []
  }
 ],
 "metadata": {
  "kernelspec": {
   "display_name": "Python 3",
   "language": "python",
   "name": "python3"
  },
  "language_info": {
   "codemirror_mode": {
    "name": "ipython",
    "version": 3
   },
   "file_extension": ".py",
   "mimetype": "text/x-python",
   "name": "python",
   "nbconvert_exporter": "python",
   "pygments_lexer": "ipython3",
   "version": "3.11.0"
  }
 },
 "nbformat": 4,
 "nbformat_minor": 5
}
