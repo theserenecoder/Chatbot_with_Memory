{
 "cells": [
  {
   "cell_type": "markdown",
   "id": "ba074854",
   "metadata": {},
   "source": [
    "## Vector Stores and Retrievers\n",
    "\n",
    "### Documents\n",
    "LangChain implements a Document abstraction, which is intended to represent a unit of text and associated metadata. It has two attributes:\n",
    "\n",
    "- **page_content**: a string representing the content.\n",
    "- **metadata**: a dict containing arbitary metadata. The metadata attribute can capture information about the source of the document, its relationship to other documents, and other information. Note that an individual Document object often represent a chunk of a larger document."
   ]
  },
  {
   "cell_type": "code",
   "execution_count": 2,
   "id": "f4002011",
   "metadata": {},
   "outputs": [],
   "source": [
    "from langchain_core.documents import Document\n",
    "\n",
    "document = [\n",
    "    Document(\n",
    "        page_content = \"Dogs are great pets.\",\n",
    "        metadata = {\"source\": \"dogs-doc\"},\n",
    "    ),\n",
    "    Document(\n",
    "        page_content = \"Cats are independent pets.\",\n",
    "        metadata = {\"source\": \"cats-doc\"},\n",
    "        \n",
    "    ),\n",
    "    Document(\n",
    "        page_content = \"Parrot are intelligent bird.\",\n",
    "        metadata = {\"source\": \"birds-doc\"},\n",
    "    ),\n",
    "    Document(\n",
    "        page_content = \"Gold fish are beginner friendly pets.\",\n",
    "        metadata = {\"source\": \"fish-doc\"},\n",
    "    ),\n",
    "]"
   ]
  },
  {
   "cell_type": "code",
   "execution_count": 3,
   "id": "017c627e",
   "metadata": {},
   "outputs": [
    {
     "data": {
      "text/plain": [
       "[Document(metadata={'source': 'dogs-doc'}, page_content='Dogs are great pets.'),\n",
       " Document(metadata={'source': 'cats-doc'}, page_content='Cats are independent pets.'),\n",
       " Document(metadata={'source': 'birds-doc'}, page_content='Parrot are intelligent bird.'),\n",
       " Document(metadata={'source': 'fish-doc'}, page_content='Gold fish are beginner friendly pets.')]"
      ]
     },
     "execution_count": 3,
     "metadata": {},
     "output_type": "execute_result"
    }
   ],
   "source": [
    "document"
   ]
  },
  {
   "cell_type": "markdown",
   "id": "7f46570b",
   "metadata": {},
   "source": [
    "### Vector Store"
   ]
  },
  {
   "cell_type": "code",
   "execution_count": null,
   "id": "700e6fbc",
   "metadata": {},
   "outputs": [],
   "source": [
    "from langhchain"
   ]
  }
 ],
 "metadata": {
  "kernelspec": {
   "display_name": "Python 3",
   "language": "python",
   "name": "python3"
  },
  "language_info": {
   "codemirror_mode": {
    "name": "ipython",
    "version": 3
   },
   "file_extension": ".py",
   "mimetype": "text/x-python",
   "name": "python",
   "nbconvert_exporter": "python",
   "pygments_lexer": "ipython3",
   "version": "3.11.0"
  }
 },
 "nbformat": 4,
 "nbformat_minor": 5
}
